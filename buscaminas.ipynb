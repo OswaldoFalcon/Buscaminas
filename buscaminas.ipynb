{
 "cells": [
  {
   "cell_type": "markdown",
   "metadata": {},
   "source": [
    "Agregamos libreria"
   ]
  },
  {
   "cell_type": "code",
   "execution_count": 77,
   "metadata": {},
   "outputs": [],
   "source": [
    "import numpy as np"
   ]
  },
  {
   "cell_type": "markdown",
   "metadata": {},
   "source": [
    "Generamos un matriz de prueba"
   ]
  },
  {
   "cell_type": "code",
   "execution_count": 162,
   "metadata": {},
   "outputs": [],
   "source": [
    "matriz = np.array([['*','.','.'],['.','.','.']])"
   ]
  },
  {
   "cell_type": "markdown",
   "metadata": {},
   "source": [
    "For loop anidado para recorrer el arreglo"
   ]
  },
  {
   "cell_type": "code",
   "execution_count": 163,
   "metadata": {},
   "outputs": [
    {
     "name": "stdout",
     "output_type": "stream",
     "text": [
      "posicion 0 0\n"
     ]
    }
   ],
   "source": [
    "\n",
    "matriz_out = matriz \n",
    "for i in range(len(matriz)):  \n",
    "    for j in range (len(matriz[i])):\n",
    "        #print('*' in matriz[i][j])\n",
    "        if('*' == matriz[i][j]):\n",
    "            print('posicion', i,j)\n",
    "            try:\n",
    "                matriz_out [i][j+1] =  1 #derecha\n",
    "            except Exception:\n",
    "                pass\n",
    "            try:\n",
    "                matriz_out [i][j+1] = 1 #derecha\n",
    "            except Exception:\n",
    "                pass\n",
    "            try:\n",
    "                matriz_out [i][j-1] = 1 #izquierda\n",
    "            except Exception:\n",
    "                pass\n",
    "            try:\n",
    "                matriz_out [i-1][j] = 1 #arriba\n",
    "            except Exception:\n",
    "                pass\n",
    "            try:\n",
    "                matriz_out [i+1][j] = 1 #abajo\n",
    "            except Exception:\n",
    "                pass\n",
    "            try:\n",
    "                matriz_out [i+1][j+1] = 1 #down derecha\n",
    "            except Exception:\n",
    "                pass\n",
    "            try:\n",
    "                matriz_out [i+1][j-1] = 1 #down izquierda\n",
    "            except Exception:\n",
    "                pass\n",
    "            try:\n",
    "                matriz_out [i-1][j-1] = 1 #up izquierda\n",
    "            except Exception:\n",
    "                pass\n",
    "            try:\n",
    "                matriz_out [i-1][j+1] = 1 #up derecha\n",
    "            except Exception:\n",
    "                pass\n",
    " \n"
   ]
  },
  {
   "cell_type": "code",
   "execution_count": 164,
   "metadata": {},
   "outputs": [
    {
     "name": "stdout",
     "output_type": "stream",
     "text": [
      "[['*' '1' '1']\n",
      " ['1' '1' '1']]\n"
     ]
    }
   ],
   "source": [
    "print(matriz_out)"
   ]
  }
 ],
 "metadata": {
  "interpreter": {
   "hash": "31f2aee4e71d21fbe5cf8b01ff0e069b9275f58929596ceb00d14d90e3e16cd6"
  },
  "kernelspec": {
   "display_name": "Python 3.8.9 64-bit",
   "language": "python",
   "name": "python3"
  },
  "language_info": {
   "codemirror_mode": {
    "name": "ipython",
    "version": 3
   },
   "file_extension": ".py",
   "mimetype": "text/x-python",
   "name": "python",
   "nbconvert_exporter": "python",
   "pygments_lexer": "ipython3",
   "version": "3.8.9"
  },
  "orig_nbformat": 4
 },
 "nbformat": 4,
 "nbformat_minor": 2
}
